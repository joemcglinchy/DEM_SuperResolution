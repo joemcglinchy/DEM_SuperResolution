{
 "cells": [
  {
   "cell_type": "markdown",
   "metadata": {},
   "source": [
    "# This notebook looks at loading image chips, resizing appropriately, and storing as PyTorch data loaders. Or... at least a set of tensors. DataLoader is preferable."
   ]
  },
  {
   "cell_type": "markdown",
   "metadata": {},
   "source": [
    "## Import some required libraries"
   ]
  },
  {
   "cell_type": "code",
   "execution_count": 1,
   "metadata": {},
   "outputs": [],
   "source": [
    "import torch, torchvision\n",
    "import glob\n",
    "import os,sys\n",
    "from skimage.transform import resize\n",
    "from matplotlib import pyplot as plt\n",
    "import numpy as np\n",
    "from scipy import misc\n",
    "import rasterio\n",
    "import torch.nn as nn\n",
    "import torch.nn.init as init\n",
    "from torch.autograd import Variable\n",
    "import torch.optim as optim\n",
    "from torch.utils.data import Dataset, DataLoader\n",
    "from torchvision import transforms, utils\n",
    "import random\n",
    "\n",
    "%matplotlib inline\n",
    "\n"
   ]
  },
  {
   "cell_type": "markdown",
   "metadata": {},
   "source": [
    "## load the image file names for training/testing"
   ]
  },
  {
   "cell_type": "code",
   "execution_count": 4,
   "metadata": {},
   "outputs": [
    {
     "name": "stdout",
     "output_type": "stream",
     "text": [
      "0 84090\n",
      "84091 112121\n",
      "112121 140151\n",
      "140152\n"
     ]
    }
   ],
   "source": [
    "# specify the image directories for dg and planet data\n",
    "dg_dir = '/media/jomc9287/Data/pytorch_SSIR_jdiaz/dg_sr_chips'\n",
    "planet_dir = '/media/jomc9287/Data/pytorch_SSIR_jdiaz/planet_sr_chips'\n",
    "\n",
    "# get the tif file paths\n",
    "dg_files = glob.glob(dg_dir + '/*.tif')\n",
    "planet_files = glob.glob(planet_dir + '/*.tif')\n",
    "\n",
    "# ensure these are the same lengths\n",
    "assert(len(dg_files) == len(planet_files))\n",
    "\n",
    "# get the values for train/test/validation splits\n",
    "file_len = len(dg_files)\n",
    "train_len = int(file_len*.6)\n",
    "test_len = int((file_len - train_len) / 2 )\n",
    "validation_len = file_len - train_len - test_len\n",
    "\n",
    "train_list = list(range(train_len))\n",
    "test_list = list(range(train_len, train_len+test_len+1))\n",
    "val_list = list(range(train_len+test_len, file_len))\n",
    "\n",
    "print(train_list[0], train_list[-1])\n",
    "print(test_list[0], test_list[-1])\n",
    "print(val_list[0], val_list[-1])\n",
    "print(file_len)"
   ]
  },
  {
   "cell_type": "markdown",
   "metadata": {},
   "source": [
    "## define a function that will return relevant information from the image files"
   ]
  },
  {
   "cell_type": "code",
   "execution_count": 4,
   "metadata": {},
   "outputs": [],
   "source": [
    "def getDims(fi):\n",
    "    \n",
    "    with rasterio.open(fi, 'r') as src:\n",
    "        transform =src.transform\n",
    "        arr = src.read()\n",
    "        \n",
    "    return transform, arr"
   ]
  },
  {
   "cell_type": "markdown",
   "metadata": {},
   "source": [
    "### create a class for digital globe data which will do the following:\n",
    "1. extract the image based on an index\n",
    "2. extract the blue-green-red-nir channels\n",
    "3. resize it be exactly 3x the planet data. The planet data is 10x10, so this should be 30x30\n",
    "4. divide by the reflectance precision factor of 10000"
   ]
  },
  {
   "cell_type": "code",
   "execution_count": 10,
   "metadata": {},
   "outputs": [
    {
     "name": "stderr",
     "output_type": "stream",
     "text": [
      "/home/jomc9287/anaconda3/envs/pytorch35/lib/python3.5/site-packages/ipykernel_launcher.py:16: FutureWarning: The value of this property will change in version 1.0. Please see https://github.com/mapbox/rasterio/issues/86 for details.\n",
      "  app.launch_new_instance()\n"
     ]
    },
    {
     "data": {
      "text/plain": [
       "<matplotlib.image.AxesImage at 0x7fe3c66e86a0>"
      ]
     },
     "execution_count": 10,
     "metadata": {},
     "output_type": "execute_result"
    },
    {
     "data": {
      "image/png": "[encoded data removed]",
      "text/plain": [
       "<matplotlib.figure.Figure at 0x7fe3c66c7c88>"
      ]
     },
     "metadata": {},
     "output_type": "display_data"
    }
   ],
   "source": [
    "class DigitalGlobeDataset(Dataset):\n",
    "    \"\"\"DG Dataset\"\"\"\n",
    "    def __init__(self, image_dir, transform=None):\n",
    "        \"\"\" \n",
    "        Args:\n",
    "            image_dir(string): the folder containing the DG images\n",
    "            transform (callable, optional): Optional transform to  be applies\n",
    "        \"\"\"\n",
    "        self.image_dir = image_dir\n",
    "        self.transform = transform\n",
    "        self.bgrn = [1,2,4,6]\n",
    "        \n",
    "    \n",
    "    def __getitem__(self, idx):\n",
    "        img_name = glob.glob(self.image_dir + '/*.tif')[idx]\n",
    "        img_arr = getDims(img_name)[1]\n",
    "        \n",
    "        new_shp = [4,30,30]\n",
    "        img_arr = img_arr[self.bgrn,:,:] \n",
    "        img_arr = resize(img_arr, new_shp, preserve_range=True, mode='reflect')\n",
    "        img_arr = img_arr / 10000\n",
    "        \n",
    "        if self.transform:\n",
    "            img_arr = self.transform(img_arr)\n",
    "        \n",
    "        return img_arr\n",
    "    \n",
    "dg_dataset = DigitalGlobeDataset(dg_dir)\n",
    "sample = dg_dataset[1]\n",
    "plt.imshow(sample[0,:,:])"
   ]
  },
  {
   "cell_type": "markdown",
   "metadata": {},
   "source": [
    "### create a class for planetScope data which will do the following:\n",
    "1. extract the image based on an index\n",
    "2. divide by the reflectance precision factor of 10000"
   ]
  },
  {
   "cell_type": "code",
   "execution_count": 14,
   "metadata": {},
   "outputs": [
    {
     "name": "stderr",
     "output_type": "stream",
     "text": [
      "/home/jomc9287/anaconda3/envs/pytorch35/lib/python3.5/site-packages/ipykernel_launcher.py:15: FutureWarning: The value of this property will change in version 1.0. Please see https://github.com/mapbox/rasterio/issues/86 for details.\n",
      "  from ipykernel import kernelapp as app\n"
     ]
    },
    {
     "data": {
      "text/plain": [
       "<matplotlib.image.AxesImage at 0x7fe3c66369b0>"
      ]
     },
     "execution_count": 14,
     "metadata": {},
     "output_type": "execute_result"
    },
    {
     "data": {
      "image/png": "[encoded data removed]",
      "text/plain": [
       "<matplotlib.figure.Figure at 0x7fe3c6681ef0>"
      ]
     },
     "metadata": {},
     "output_type": "display_data"
    }
   ],
   "source": [
    "class PlanetScopeDataset(Dataset):\n",
    "    \"\"\"DG Dataset\"\"\"\n",
    "    def __init__(self, image_dir, transform=None):\n",
    "        \"\"\" \n",
    "        Args:\n",
    "            image_dir(string): the folder containing the DG images\n",
    "            transform (callable, optional): Optional transform to  be applies\n",
    "        \"\"\"\n",
    "        self.image_dir = image_dir\n",
    "        self.transform = transform\n",
    "        \n",
    "    \n",
    "    def __getitem__(self, idx):\n",
    "        img_name = glob.glob(self.image_dir + '/*.tif')[idx]\n",
    "        img_arr = getDims(img_name)[1]\n",
    "        \n",
    "        img_arr = img_arr / 10000\n",
    "        \n",
    "        if self.transform:\n",
    "            img_arr = self.transform(img_arr)\n",
    "        \n",
    "        return img_arr\n",
    "    \n",
    "pl_dataset = PlanetScopeDataset(planet_dir)\n",
    "sample = pl_dataset[1]\n",
    "plt.imshow(sample[0,:,:])"
   ]
  },
  {
   "cell_type": "markdown",
   "metadata": {},
   "source": [
    "#### make a class to transform the array to a tensor, and make the dataset calls use it\n"
   ]
  },
  {
   "cell_type": "code",
   "execution_count": 20,
   "metadata": {},
   "outputs": [
    {
     "name": "stderr",
     "output_type": "stream",
     "text": [
      "/home/jomc9287/anaconda3/envs/pytorch35/lib/python3.5/site-packages/ipykernel_launcher.py:16: FutureWarning: The value of this property will change in version 1.0. Please see https://github.com/mapbox/rasterio/issues/86 for details.\n",
      "  app.launch_new_instance()\n"
     ]
    },
    {
     "data": {
      "text/plain": [
       "(4, 30, 30)"
      ]
     },
     "execution_count": 20,
     "metadata": {},
     "output_type": "execute_result"
    }
   ],
   "source": [
    "class ToTensor(object):\n",
    "    \"\"\"Convert ndarrays to Tensors... \n",
    "    NOTE: rasterio has band as first dim, no need for transpose\n",
    "    \"\"\"\n",
    "    \n",
    "    def __call__(self, img_arr):\n",
    "        return torch.from_numpy(img_arr)\n",
    "    \n",
    "pl_T_dataset = PlanetScopeDataset(planet_dir, transform=transforms.Compose([ToTensor()]))\n",
    "dg_T_dataset = DigitalGlobeDataset(dg_dir, transform=transforms.Compose([ToTensor()]))\n",
    "\n",
    "dg_T_dataset[0].shape"
   ]
  },
  {
   "cell_type": "markdown",
   "metadata": {},
   "source": [
    "## create model class"
   ]
  },
  {
   "cell_type": "code",
   "execution_count": null,
   "metadata": {},
   "outputs": [],
   "source": [
    "class Net(nn.Module):\n",
    "    def __init__(self, upscale_factor, NUMBER_OF_BANDS):\n",
    "        super(Net, self).__init__()\n",
    "\n",
    "        self.relu = nn.ReLU()\n",
    "        self.conv1 = nn.Conv2d(NUMBER_OF_BANDS, 64, (5, 5), (1, 1), (2, 2))      # Here \n",
    "        self.conv2 = nn.Conv2d(64, 64, (3, 3), (1, 1), (1, 1))\n",
    "        self.conv3 = nn.Conv2d(64, 32, (3, 3), (1, 1), (1, 1))\n",
    "        self.conv4 = nn.Conv2d(32, ((NUMBER_OF_BANDS) * (upscale_factor ** 2)),  # And here\n",
    "                               (3, 3), (1, 1), (1, 1))\n",
    "        self.pixel_shuffle = nn.PixelShuffle(upscale_factor)\n",
    "\n",
    "        self._initialize_weights()\n",
    "\n",
    "    def forward(self, x):\n",
    "        x = self.relu(self.conv1(x))\n",
    "        x = self.relu(self.conv2(x))\n",
    "        x = self.relu(self.conv3(x))\n",
    "        x = self.pixel_shuffle(self.conv4(x))\n",
    "        return x\n",
    "\n",
    "    def _initialize_weights(self):\n",
    "        init.orthogonal(self.conv1.weight, init.calculate_gain('relu'))\n",
    "        init.orthogonal(self.conv2.weight, init.calculate_gain('relu'))\n",
    "        init.orthogonal(self.conv3.weight, init.calculate_gain('relu'))\n",
    "        init.orthogonal(self.conv4.weight)\n",
    "\n",
    "## define the model for this case\n",
    "model = Net(upscale_factor=3, NUMBER_OF_BANDS=4)\n",
    "criterion = nn.MSELoss()\n",
    "optimizer = optim.Adam(model.parameters(), lr=.01) # learning rate is 0.01\n",
    "\n",
    "cuda = torch.cuda.is_available()\n",
    "if cuda:\n",
    "    model.cuda()\n",
    "    criterion.cuda()"
   ]
  },
  {
   "cell_type": "markdown",
   "metadata": {},
   "source": [
    "## define the DataLoaders for training, testing, and validation \n",
    "#### (training_data_loader, test_data_loader, and val_data_loader)"
   ]
  },
  {
   "cell_type": "code",
   "execution_count": null,
   "metadata": {},
   "outputs": [],
   "source": []
  },
  {
   "cell_type": "markdown",
   "metadata": {},
   "source": [
    "### use the PyTorch super-resolution example for training"
   ]
  },
  {
   "cell_type": "code",
   "execution_count": null,
   "metadata": {},
   "outputs": [],
   "source": [
    "def train(epoch, training_list, input_dataset, target_dataset):  # updated to include list of inds, Datasets\n",
    "    epoch_loss = 0\n",
    "#     for iteration, batch in enumerate(training_data_loader, 1):\n",
    "#         input, target = Variable(batch[0]), Variable(batch[1])\n",
    "        \n",
    "    random.shuffle(training_list) # shuffle the list\n",
    "    for iteration, ind in enumerate(training_list)\n",
    "        input, target = Variable(input_dataset[ind].unsqueeze(0).float()), \\\n",
    "                        Variable(target_dataset[ind].unsqueeze(0).float())\n",
    "        \n",
    "        if cuda:\n",
    "            input = input.cuda()\n",
    "            target = target.cuda()\n",
    "\n",
    "        optimizer.zero_grad()\n",
    "        loss = criterion(model(input), target)\n",
    "        epoch_loss += loss.data[0]\n",
    "        loss.backward()\n",
    "        optimizer.step()\n",
    "\n",
    "        print(\"===> Epoch[{}]({}/{}): Loss: {:.4f}\".format(epoch, iteration, len(training_list), loss.data[0]))\n",
    "\n",
    "    print(\"===> Epoch {} Complete: Avg. Loss: {:.4f}\".format(epoch, epoch_loss / len(training_list))\n",
    "\n",
    "\n",
    "def test(testing_list, input_dataset, target_dataset):\n",
    "    avg_psnr = 0\n",
    "#     for batch in testing_data_loader:\n",
    "#         input, target = Variable(batch[0]), Variable(batch[1])\n",
    "        \n",
    "        random.shuffle(testing_list)\n",
    "        for iteration, ind in enumerate(testing_list)\n",
    "          input, target = Variable(input_dataset[ind].unsqueeze(0).float()), \\\n",
    "                        Variable(target_dataset[ind].unsqueeze(0).float())\n",
    "          if cuda:\n",
    "            input = input.cuda()\n",
    "            target = target.cuda()\n",
    "\n",
    "        prediction = model(input)\n",
    "        mse = criterion(prediction, target)\n",
    "        psnr = 10 * log10(1 / mse.data[0])\n",
    "        avg_psnr += psnr\n",
    "    print(\"===> Avg. PSNR: {:.4f} dB\".format(avg_psnr / len(testing_data_loader)))\n",
    "\n",
    "\n",
    "def checkpoint(epoch):\n",
    "    model_out_path = \"/media/jomc9287/Data/pytorch_SSIR_jdiaz/pytorch_outputs/model_epoch_{}.pth\".format(epoch)\n",
    "    torch.save(model, model_out_path)\n",
    "    print(\"Checkpoint saved to {}\".format(model_out_path))\n",
    "\n",
    "# define the number of epochs\n",
    "num_epochs = 30\n",
    "for epoch in range(1, num_epochs + 1):\n",
    "    train(epoch, train_list, pl_T_dataset, dg_T_dataset)\n",
    "    test(test_list, pl_T_dataset, dg_T_dataset)\n",
    "    checkpoint(epoch)"
   ]
  },
  {
   "cell_type": "code",
   "execution_count": 9,
   "metadata": {},
   "outputs": [
    {
     "name": "stderr",
     "output_type": "stream",
     "text": [
      "/home/jomc9287/anaconda3/envs/pytorch35/lib/python3.5/site-packages/ipykernel_launcher.py:6: FutureWarning: The value of this property will change in version 1.0. Please see https://github.com/mapbox/rasterio/issues/86 for details.\n",
      "  \n",
      "/home/jomc9287/anaconda3/envs/pytorch35/lib/python3.5/site-packages/ipykernel_launcher.py:7: FutureWarning: The value of this property will change in version 1.0. Please see https://github.com/mapbox/rasterio/issues/86 for details.\n",
      "  import sys\n"
     ]
    }
   ],
   "source": [
    "## read the data for all of the files\n",
    "# training_pl = [getDims(f) for f in planet_files[:train_len+1]]\n",
    "# test_pl = [getDims(f) for f in planet_files[train_len:train_len + test_len + 1]]\n",
    "# validation_pl = [getDims(f) for f in planet_files[train_len + test_len:]]\n",
    "\n",
    "# training_dg = [getDims(f) for f in dg_files[:train_len+1]]\n",
    "# test_dg = [getDims(f) for f in dg_files[train_len:train_len + test_len + 1]]\n",
    "# validation_dg = [getDims(f) for f in dg_files[train_len + test_len:]]"
   ]
  },
  {
   "cell_type": "code",
   "execution_count": 10,
   "metadata": {},
   "outputs": [],
   "source": [
    "## need to extract the BGRN bands from the DG arrays\n",
    "# bgrn = [1,2,4,6]\n",
    "# training_dg_arr = [tup[1][bgrn,:,:] for tup in training_dg]\n",
    "# test_dg_arr = [tup[1][bgrn,:,:] for tup in test_dg]\n",
    "# validation_dg_arr = [tup[1][bgrn,:,:] for tup in validation_dg]"
   ]
  },
  {
   "cell_type": "code",
   "execution_count": null,
   "metadata": {},
   "outputs": [],
   "source": [
    "## then, need to resize DG arrays to planet array shapes\n",
    "# pl_shp = training_pl[0][1].shape\n",
    "# upscale_factor = 3\n",
    "# new_shp = (pl_shp[0], pl_shp[1]*upscale_factor, pl_shp[2]*upscale_factor)\n",
    "# training_dg_rs = [resize(im, new_shp, preserve_range=True, mode='reflect') for im in training_dg_arr]\n",
    "# test_dg_rs = [resize(im, new_shp, preserve_range=True, mode='reflect') for im in test_dg_arr]\n",
    "# validation_dg_rs = [resize(im, new_shp, preserve_range=True, mode='reflect') for im in validation_dg_arr]"
   ]
  },
  {
   "cell_type": "code",
   "execution_count": 19,
   "metadata": {},
   "outputs": [],
   "source": [
    "## extract the planet arrays\n",
    "# training_pl_arr = [tup[1] for tup in training_pl]\n",
    "# test_pl_arr = [tup[1] for tup in test_pl]\n",
    "# validation_pl_arr = [tup[1] for tup in validation_pl]"
   ]
  },
  {
   "cell_type": "markdown",
   "metadata": {},
   "source": [
    "### need to normalize the data in the array by something... max()? Maximum bit value, e.g., 2^11?"
   ]
  },
  {
   "cell_type": "code",
   "execution_count": 35,
   "metadata": {},
   "outputs": [],
   "source": [
    "# scale_factor = 10000 # this is used to normalize to surface reflectance as per file metadata\n",
    "# trX = torch.from_numpy(np.asarray(training_pl_arr).astype('float')) / scale_factor\n",
    "# trY = torch.from_numpy(np.asarray(training_dg_rs).astype('float')) / scale_factor\n",
    "\n",
    "# teX = torch.from_numpy(np.asarray(test_pl_arr).astype('float')) / scale_factor\n",
    "# teY = torch.from_numpy(np.asarray(test_dg_rs).astype('float')) / scale_factor\n",
    "\n",
    "# valX = torch.from_numpy(np.asarray(validation_pl_arr).astype('float')) / scale_factor\n",
    "# valY = torch.from_numpy(np.asarray(validation_dg_rs).astype('float')) / scale_factor"
   ]
  },
  {
   "cell_type": "code",
   "execution_count": 62,
   "metadata": {},
   "outputs": [
    {
     "name": "stdout",
     "output_type": "stream",
     "text": [
      "torch.Size([1, 4, 30, 30])\n"
     ]
    }
   ],
   "source": [
    "## test the model\n",
    "# testing = valX[0].unsqueeze(0) # the .unsqueeze(0) ensure batch dim == 1, eg., [1,bands,rows,cols]\n",
    "# testing = Variable(testing)\n",
    "# testing = testing.float()\n",
    "# output = model(testing)\n",
    "# print(output.size())\n",
    "\n",
    "# # visualize it\n",
    "# arr_random = output.data.numpy()\n",
    "# arr_random = arr.squeeze()\n",
    "# # plt.imshow(arr[0,:,:])"
   ]
  }
 ],
 "metadata": {
  "kernelspec": {
   "display_name": "Python PyTorch35",
   "language": "python",
   "name": "pytorch35"
  },
  "language_info": {
   "codemirror_mode": {
    "name": "ipython",
    "version": 3
   },
   "file_extension": ".py",
   "mimetype": "text/x-python",
   "name": "python",
   "nbconvert_exporter": "python",
   "pygments_lexer": "ipython3",
   "version": "3.5.4"
  }
 },
 "nbformat": 4,
 "nbformat_minor": 2
}
